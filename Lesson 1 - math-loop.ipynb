{
 "cells": [
  {
   "cell_type": "markdown",
   "source": [
    "# 2. Các kiểu dữ liệu trong Python"
   ],
   "metadata": {
    "collapsed": false
   }
  },
  {
   "cell_type": "code",
   "execution_count": 13,
   "metadata": {
    "collapsed": true,
    "ExecuteTime": {
     "end_time": "2024-12-24T16:00:06.623919300Z",
     "start_time": "2024-12-24T16:00:06.608246700Z"
    }
   },
   "outputs": [
    {
     "name": "stdout",
     "output_type": "stream",
     "text": [
      "<class 'int'> <class 'float'> <class 'complex'>\n"
     ]
    }
   ],
   "source": [
    "x = 10        # int\n",
    "y = 3.14      # float\n",
    "z = 1 + 2j    # complex\n",
    "print(type(x), type(y), type(z))"
   ]
  },
  {
   "cell_type": "code",
   "execution_count": 14,
   "outputs": [
    {
     "name": "stdout",
     "output_type": "stream",
     "text": [
      "Python <class 'str'>\n"
     ]
    }
   ],
   "source": [
    "name = \"Python\"\n",
    "print(name, type(name))"
   ],
   "metadata": {
    "collapsed": false,
    "ExecuteTime": {
     "end_time": "2024-12-24T16:00:06.669649Z",
     "start_time": "2024-12-24T16:00:06.623919300Z"
    }
   }
  },
  {
   "cell_type": "code",
   "execution_count": 15,
   "outputs": [
    {
     "name": "stdout",
     "output_type": "stream",
     "text": [
      "['apple', 'banana', 'cherry'] <class 'list'>\n"
     ]
    }
   ],
   "source": [
    "fruits = [\"apple\", \"banana\", \"cherry\"]\n",
    "print(fruits, type(fruits))"
   ],
   "metadata": {
    "collapsed": false,
    "ExecuteTime": {
     "end_time": "2024-12-24T16:00:06.669649Z",
     "start_time": "2024-12-24T16:00:06.638319900Z"
    }
   }
  },
  {
   "cell_type": "code",
   "execution_count": 16,
   "outputs": [
    {
     "name": "stdout",
     "output_type": "stream",
     "text": [
      "(10, 20, 30) <class 'tuple'>\n"
     ]
    }
   ],
   "source": [
    "coordinates = (10, 20, 30)\n",
    "print(coordinates, type(coordinates))"
   ],
   "metadata": {
    "collapsed": false,
    "ExecuteTime": {
     "end_time": "2024-12-24T16:00:06.669649Z",
     "start_time": "2024-12-24T16:00:06.654018Z"
    }
   }
  },
  {
   "cell_type": "code",
   "execution_count": 17,
   "outputs": [
    {
     "name": "stdout",
     "output_type": "stream",
     "text": [
      "{1, 2, 3, 4} <class 'set'>\n"
     ]
    }
   ],
   "source": [
    "unique_numbers = {1, 2, 3, 4}\n",
    "print(unique_numbers, type(unique_numbers))"
   ],
   "metadata": {
    "collapsed": false,
    "ExecuteTime": {
     "end_time": "2024-12-24T16:00:06.726601Z",
     "start_time": "2024-12-24T16:00:06.669649Z"
    }
   }
  },
  {
   "cell_type": "code",
   "execution_count": 18,
   "outputs": [
    {
     "name": "stdout",
     "output_type": "stream",
     "text": [
      "{'name': 'John', 'age': 20} <class 'dict'>\n"
     ]
    }
   ],
   "source": [
    "student = {\"name\": \"John\", \"age\": 20}\n",
    "print(student, type(student))"
   ],
   "metadata": {
    "collapsed": false,
    "ExecuteTime": {
     "end_time": "2024-12-24T16:00:06.726601Z",
     "start_time": "2024-12-24T16:00:06.695444500Z"
    }
   }
  },
  {
   "cell_type": "code",
   "execution_count": 19,
   "outputs": [
    {
     "name": "stdout",
     "output_type": "stream",
     "text": [
      "True <class 'bool'>\n"
     ]
    }
   ],
   "source": [
    "is_active = True\n",
    "print(is_active, type(is_active))"
   ],
   "metadata": {
    "collapsed": false,
    "ExecuteTime": {
     "end_time": "2024-12-24T16:00:06.726601Z",
     "start_time": "2024-12-24T16:00:06.711050300Z"
    }
   }
  },
  {
   "cell_type": "code",
   "execution_count": 20,
   "outputs": [
    {
     "name": "stdout",
     "output_type": "stream",
     "text": [
      "None <class 'NoneType'>\n"
     ]
    }
   ],
   "source": [
    "data = None\n",
    "print(data, type(data))"
   ],
   "metadata": {
    "collapsed": false,
    "ExecuteTime": {
     "end_time": "2024-12-24T16:00:06.742223100Z",
     "start_time": "2024-12-24T16:00:06.726601Z"
    }
   }
  },
  {
   "cell_type": "markdown",
   "source": [
    "# 3. Cách khai báo biến"
   ],
   "metadata": {
    "collapsed": false
   }
  },
  {
   "cell_type": "code",
   "execution_count": 21,
   "outputs": [],
   "source": [
    "x = 10  # Biến nguyên\n",
    "name = \"Python\"  # Biến chuỗi\n",
    "is_active = True  # Biến logic"
   ],
   "metadata": {
    "collapsed": false,
    "ExecuteTime": {
     "end_time": "2024-12-24T16:00:06.795629Z",
     "start_time": "2024-12-24T16:00:06.742223100Z"
    }
   }
  },
  {
   "cell_type": "markdown",
   "source": [
    "# 4. Các phép tính và toán tử cơ bản"
   ],
   "metadata": {
    "collapsed": false
   }
  },
  {
   "cell_type": "code",
   "execution_count": 22,
   "outputs": [
    {
     "name": "stdout",
     "output_type": "stream",
     "text": [
      "8\n"
     ]
    }
   ],
   "source": [
    "a = 5\n",
    "b = 3\n",
    "print(a + b)  # Kết quả: 8"
   ],
   "metadata": {
    "collapsed": false,
    "ExecuteTime": {
     "end_time": "2024-12-24T16:00:06.795629Z",
     "start_time": "2024-12-24T16:00:06.757847100Z"
    }
   }
  },
  {
   "cell_type": "code",
   "execution_count": 23,
   "outputs": [
    {
     "name": "stdout",
     "output_type": "stream",
     "text": [
      "2\n"
     ]
    }
   ],
   "source": [
    "a = 5\n",
    "b = 3\n",
    "print(a - b)  # Kết quả: 2"
   ],
   "metadata": {
    "collapsed": false,
    "ExecuteTime": {
     "end_time": "2024-12-24T16:00:06.795629Z",
     "start_time": "2024-12-24T16:00:06.773469700Z"
    }
   }
  },
  {
   "cell_type": "code",
   "execution_count": 24,
   "outputs": [
    {
     "name": "stdout",
     "output_type": "stream",
     "text": [
      "15\n"
     ]
    }
   ],
   "source": [
    "a = 5\n",
    "b = 3\n",
    "print(a * b)  # Kết quả: 15"
   ],
   "metadata": {
    "collapsed": false,
    "ExecuteTime": {
     "end_time": "2024-12-24T16:00:06.795629Z",
     "start_time": "2024-12-24T16:00:06.776938100Z"
    }
   }
  },
  {
   "cell_type": "code",
   "execution_count": 25,
   "outputs": [
    {
     "name": "stdout",
     "output_type": "stream",
     "text": [
      "2.5\n"
     ]
    }
   ],
   "source": [
    "a = 5\n",
    "b = 2\n",
    "print(a / b)  # Kết quả: 2.5"
   ],
   "metadata": {
    "collapsed": false,
    "ExecuteTime": {
     "end_time": "2024-12-24T16:00:06.811243600Z",
     "start_time": "2024-12-24T16:00:06.795629Z"
    }
   }
  },
  {
   "cell_type": "code",
   "execution_count": 26,
   "outputs": [
    {
     "name": "stdout",
     "output_type": "stream",
     "text": [
      "2\n"
     ]
    }
   ],
   "source": [
    "a = 5\n",
    "b = 2\n",
    "print(a // b)  # Kết quả: 2"
   ],
   "metadata": {
    "collapsed": false,
    "ExecuteTime": {
     "end_time": "2024-12-24T16:00:06.862472500Z",
     "start_time": "2024-12-24T16:00:06.811243600Z"
    }
   }
  },
  {
   "cell_type": "code",
   "execution_count": 27,
   "outputs": [
    {
     "name": "stdout",
     "output_type": "stream",
     "text": [
      "1\n"
     ]
    }
   ],
   "source": [
    "a = 5\n",
    "b = 2\n",
    "print(a % b)  # Kết quả: 1"
   ],
   "metadata": {
    "collapsed": false,
    "ExecuteTime": {
     "end_time": "2024-12-24T16:00:06.880158300Z",
     "start_time": "2024-12-24T16:00:06.826864900Z"
    }
   }
  },
  {
   "cell_type": "code",
   "execution_count": 28,
   "outputs": [
    {
     "name": "stdout",
     "output_type": "stream",
     "text": [
      "8\n"
     ]
    }
   ],
   "source": [
    "a = 2\n",
    "b = 3\n",
    "print(a ** b)  # Kết quả: 8"
   ],
   "metadata": {
    "collapsed": false,
    "ExecuteTime": {
     "end_time": "2024-12-24T16:00:06.880158300Z",
     "start_time": "2024-12-24T16:00:06.844704600Z"
    }
   }
  },
  {
   "cell_type": "markdown",
   "source": [
    "# 5. Các câu điều kiện và vòng lặp"
   ],
   "metadata": {
    "collapsed": false
   }
  },
  {
   "cell_type": "code",
   "execution_count": 29,
   "outputs": [
    {
     "name": "stdout",
     "output_type": "stream",
     "text": [
      "x lớn hơn 5\n"
     ]
    }
   ],
   "source": [
    "x = 10\n",
    "if x > 5:\n",
    "    print(\"x lớn hơn 5\")\n",
    "elif x == 5:\n",
    "    print(\"x bằng 5\")\n",
    "else:\n",
    "    print(\"x nhỏ hơn 5\")"
   ],
   "metadata": {
    "collapsed": false,
    "ExecuteTime": {
     "end_time": "2024-12-24T16:00:06.880158300Z",
     "start_time": "2024-12-24T16:00:06.862472500Z"
    }
   }
  },
  {
   "cell_type": "code",
   "execution_count": 30,
   "outputs": [
    {
     "name": "stdout",
     "output_type": "stream",
     "text": [
      "0\n",
      "1\n",
      "2\n",
      "3\n",
      "4\n"
     ]
    }
   ],
   "source": [
    "for i in range(5):\n",
    "    print(i)"
   ],
   "metadata": {
    "collapsed": false,
    "ExecuteTime": {
     "end_time": "2024-12-24T16:00:06.927348400Z",
     "start_time": "2024-12-24T16:00:06.880158300Z"
    }
   }
  },
  {
   "cell_type": "code",
   "execution_count": 31,
   "outputs": [
    {
     "name": "stdout",
     "output_type": "stream",
     "text": [
      "0\n",
      "1\n",
      "2\n",
      "3\n",
      "4\n"
     ]
    }
   ],
   "source": [
    "x = 0\n",
    "while x < 5:\n",
    "    print(x)\n",
    "    x += 1"
   ],
   "metadata": {
    "collapsed": false,
    "ExecuteTime": {
     "end_time": "2024-12-24T16:00:06.942720800Z",
     "start_time": "2024-12-24T16:00:06.895853700Z"
    }
   }
  },
  {
   "cell_type": "markdown",
   "source": [
    "# 6. Ví dụ giải phương trình bậc 2"
   ],
   "metadata": {
    "collapsed": false
   }
  },
  {
   "cell_type": "code",
   "execution_count": 32,
   "outputs": [
    {
     "name": "stdout",
     "output_type": "stream",
     "text": [
      "Phương trình có hai nghiệm: x1 = 2.0, x2 = 1.0\n"
     ]
    }
   ],
   "source": [
    "import math\n",
    "\n",
    "def solve_quadratic(a, b, c):\n",
    "    # Tính địa\n",
    "    delta = b**2 - 4*a*c\n",
    "    if delta < 0:\n",
    "        return \"Phương trình vô nghiệm\"\n",
    "    elif delta == 0:\n",
    "        x = -b / (2*a)\n",
    "        return f\"Phương trình có nghiệm kép: x = {x}\"\n",
    "    else:\n",
    "        x1 = (-b + math.sqrt(delta)) / (2*a)\n",
    "        x2 = (-b - math.sqrt(delta)) / (2*a)\n",
    "        return f\"Phương trình có hai nghiệm: x1 = {x1}, x2 = {x2}\"\n",
    "\n",
    "# Ví dụ\n",
    "print(solve_quadratic(1, -3, 2))"
   ],
   "metadata": {
    "collapsed": false,
    "ExecuteTime": {
     "end_time": "2024-12-24T16:00:06.942720800Z",
     "start_time": "2024-12-24T16:00:06.911409200Z"
    }
   }
  },
  {
   "cell_type": "markdown",
   "source": [
    "# 7. List trong Python"
   ],
   "metadata": {
    "collapsed": false
   }
  },
  {
   "cell_type": "code",
   "execution_count": 1,
   "outputs": [
    {
     "name": "stdout",
     "output_type": "stream",
     "text": [
      "[1, 2, 3, 4, 5]\n"
     ]
    }
   ],
   "source": [
    "# Tạo danh sách\n",
    "my_list = [1, 2, 3, 4, 5]\n",
    "print(my_list)"
   ],
   "metadata": {
    "collapsed": false,
    "ExecuteTime": {
     "end_time": "2025-01-15T10:08:02.052050300Z",
     "start_time": "2025-01-15T10:08:02.043050400Z"
    }
   }
  },
  {
   "cell_type": "code",
   "execution_count": 2,
   "outputs": [
    {
     "name": "stdout",
     "output_type": "stream",
     "text": [
      "1\n",
      "5\n"
     ]
    }
   ],
   "source": [
    "# Truy cập phần tử đầu tiên\n",
    "print(my_list[0])\n",
    "\n",
    "# Truy cập phần tử cuối cùng\n",
    "print(my_list[-1])"
   ],
   "metadata": {
    "collapsed": false,
    "ExecuteTime": {
     "end_time": "2025-01-15T10:08:10.239895200Z",
     "start_time": "2025-01-15T10:08:10.229952800Z"
    }
   }
  },
  {
   "cell_type": "code",
   "execution_count": 3,
   "outputs": [
    {
     "name": "stdout",
     "output_type": "stream",
     "text": [
      "[1, 2, 10, 3, 4, 5, 6]\n",
      "[1, 2, 3, 4, 5, 6]\n"
     ]
    }
   ],
   "source": [
    "# Thêm phần tử vào danh sách\n",
    "my_list.append(6)  # Thêm vào cuối\n",
    "my_list.insert(2, 10)  # Chèn vào vị trí index 2\n",
    "print(my_list)\n",
    "\n",
    "# Xóa phần tử\n",
    "my_list.remove(10)  # Xóa giá trị 10\n",
    "print(my_list)"
   ],
   "metadata": {
    "collapsed": false,
    "ExecuteTime": {
     "end_time": "2025-01-15T10:08:21.223843400Z",
     "start_time": "2025-01-15T10:08:21.212843400Z"
    }
   }
  },
  {
   "cell_type": "code",
   "execution_count": 4,
   "outputs": [
    {
     "name": "stdout",
     "output_type": "stream",
     "text": [
      "1\n",
      "2\n",
      "3\n",
      "4\n",
      "5\n",
      "6\n"
     ]
    }
   ],
   "source": [
    "# Duyệt danh sách bằng vòng lặp for\n",
    "for item in my_list:\n",
    "    print(item)"
   ],
   "metadata": {
    "collapsed": false,
    "ExecuteTime": {
     "end_time": "2025-01-15T10:08:42.240932200Z",
     "start_time": "2025-01-15T10:08:42.223354900Z"
    }
   }
  },
  {
   "cell_type": "code",
   "execution_count": 6,
   "outputs": [
    {
     "name": "stdout",
     "output_type": "stream",
     "text": [
      "[1, 4, 9, 16, 25, 36]\n"
     ]
    }
   ],
   "source": [
    "# Tạo danh sách mới từ danh sách cũ\n",
    "squared_list = [x**2 for x in my_list]\n",
    "print(squared_list)"
   ],
   "metadata": {
    "collapsed": false,
    "ExecuteTime": {
     "end_time": "2025-01-15T10:09:09.935610900Z",
     "start_time": "2025-01-15T10:09:09.913611700Z"
    }
   }
  },
  {
   "cell_type": "markdown",
   "source": [
    "# 8. Array trong Python"
   ],
   "metadata": {
    "collapsed": false
   }
  },
  {
   "cell_type": "code",
   "execution_count": 7,
   "outputs": [
    {
     "name": "stdout",
     "output_type": "stream",
     "text": [
      "[1, 2, 3, 4, 5]\n"
     ]
    }
   ],
   "source": [
    "# Tạo một danh sách (list) trong Python\n",
    "arr = [1, 2, 3, 4, 5]\n",
    "print(arr)"
   ],
   "metadata": {
    "collapsed": false,
    "ExecuteTime": {
     "end_time": "2025-01-15T10:09:44.596110300Z",
     "start_time": "2025-01-15T10:09:44.547377300Z"
    }
   }
  },
  {
   "cell_type": "code",
   "execution_count": 8,
   "outputs": [
    {
     "name": "stdout",
     "output_type": "stream",
     "text": [
      "array('i', [1, 2, 3, 4, 5])\n"
     ]
    }
   ],
   "source": [
    "import array\n",
    "\n",
    "# Tạo một mảng số nguyên\n",
    "arr = array.array('i', [1, 2, 3, 4, 5])\n",
    "print(arr)"
   ],
   "metadata": {
    "collapsed": false,
    "ExecuteTime": {
     "end_time": "2025-01-15T10:10:01.077417100Z",
     "start_time": "2025-01-15T10:10:01.034586800Z"
    }
   }
  },
  {
   "cell_type": "markdown",
   "source": [
    "# 9. Array trong Numpy"
   ],
   "metadata": {
    "collapsed": false
   }
  },
  {
   "cell_type": "code",
   "execution_count": 10,
   "outputs": [
    {
     "name": "stdout",
     "output_type": "stream",
     "text": [
      "[1 2 3 4 5]\n"
     ]
    }
   ],
   "source": [
    "import numpy as np\n",
    "\n",
    "# Tạo một mảng NumPy từ danh sách Python\n",
    "arr = np.array([1, 2, 3, 4, 5])\n",
    "print(arr)"
   ],
   "metadata": {
    "collapsed": false,
    "ExecuteTime": {
     "end_time": "2025-01-15T10:11:52.493181300Z",
     "start_time": "2025-01-15T10:11:52.175753300Z"
    }
   }
  },
  {
   "cell_type": "code",
   "execution_count": 11,
   "outputs": [
    {
     "name": "stdout",
     "output_type": "stream",
     "text": [
      "[[1 2 3]\n",
      " [4 5 6]]\n",
      "Shape: (2, 3)\n",
      "Phần tử hàng 1, cột 2: 2\n",
      "[ 2  4  6  8 10]\n"
     ]
    }
   ],
   "source": [
    "# Tạo mảng 2 chiều\n",
    "matrix = np.array([[1, 2, 3], [4, 5, 6]])\n",
    "print(matrix)\n",
    "\n",
    "# Lấy kích thước của mảng\n",
    "print(\"Shape:\", matrix.shape)\n",
    "\n",
    "# Truy cập phần tử\n",
    "print(\"Phần tử hàng 1, cột 2:\", matrix[0, 1])\n",
    "\n",
    "# Thực hiện phép toán\n",
    "arr2 = arr * 2  # Nhân mỗi phần tử với 2\n",
    "print(arr2)"
   ],
   "metadata": {
    "collapsed": false,
    "ExecuteTime": {
     "end_time": "2025-01-15T10:11:54.008717400Z",
     "start_time": "2025-01-15T10:11:53.961742200Z"
    }
   }
  },
  {
   "cell_type": "markdown",
   "source": [],
   "metadata": {
    "collapsed": false
   }
  },
  {
   "cell_type": "code",
   "execution_count": 12,
   "outputs": [
    {
     "name": "stdout",
     "output_type": "stream",
     "text": [
      "Ma trận tổng:\n",
      " [[ 6  8]\n",
      " [10 12]]\n",
      "Ma trận tích:\n",
      " [[19 22]\n",
      " [43 50]]\n",
      "Ma trận chuyển vị:\n",
      " [[1 3]\n",
      " [2 4]]\n",
      "Định thức của A: -2.0000000000000004\n",
      "Ma trận nghịch đảo của A:\n",
      " [[-2.   1. ]\n",
      " [ 1.5 -0.5]]\n"
     ]
    }
   ],
   "source": [
    "# Cộng hai ma trận\n",
    "A = np.array([[1, 2], [3, 4]])\n",
    "B = np.array([[5, 6], [7, 8]])\n",
    "C = A + B\n",
    "print(\"Ma trận tổng:\\n\", C)\n",
    "\n",
    "# Nhân hai ma trận\n",
    "D = np.dot(A, B)\n",
    "print(\"Ma trận tích:\\n\", D)\n",
    "\n",
    "# Tính ma trận chuyển vị\n",
    "E = A.T\n",
    "print(\"Ma trận chuyển vị:\\n\", E)\n",
    "\n",
    "# Tính định thức\n",
    "det_A = np.linalg.det(A)\n",
    "print(\"Định thức của A:\", det_A)\n",
    "\n",
    "# Tính ma trận nghịch đảo\n",
    "inv_A = np.linalg.inv(A)\n",
    "print(\"Ma trận nghịch đảo của A:\\n\", inv_A)"
   ],
   "metadata": {
    "collapsed": false,
    "ExecuteTime": {
     "end_time": "2025-01-15T10:12:11.454320Z",
     "start_time": "2025-01-15T10:12:11.421338200Z"
    }
   }
  },
  {
   "cell_type": "markdown",
   "source": [
    "# 10. Array trong pandas"
   ],
   "metadata": {
    "collapsed": false
   }
  },
  {
   "cell_type": "code",
   "execution_count": 13,
   "outputs": [
    {
     "name": "stdout",
     "output_type": "stream",
     "text": [
      "0    1\n",
      "1    2\n",
      "2    3\n",
      "3    4\n",
      "4    5\n",
      "dtype: int64\n"
     ]
    }
   ],
   "source": [
    "import pandas as pd\n",
    "\n",
    "# Tạo Series từ danh sách\n",
    "series = pd.Series([1, 2, 3, 4, 5])\n",
    "print(series)"
   ],
   "metadata": {
    "collapsed": false,
    "ExecuteTime": {
     "end_time": "2025-01-15T10:13:04.801252200Z",
     "start_time": "2025-01-15T10:13:03.587028700Z"
    }
   }
  },
  {
   "cell_type": "code",
   "execution_count": 14,
   "outputs": [
    {
     "name": "stdout",
     "output_type": "stream",
     "text": [
      "   A  B\n",
      "0  1  4\n",
      "1  2  5\n",
      "2  3  6\n"
     ]
    }
   ],
   "source": [
    "# Tạo DataFrame từ danh sách\n",
    "data = {\n",
    "    'A': [1, 2, 3],\n",
    "    'B': [4, 5, 6]\n",
    "}\n",
    "df = pd.DataFrame(data)\n",
    "print(df)"
   ],
   "metadata": {
    "collapsed": false,
    "ExecuteTime": {
     "end_time": "2025-01-15T10:13:19.214312900Z",
     "start_time": "2025-01-15T10:13:19.162357500Z"
    }
   }
  },
  {
   "cell_type": "code",
   "execution_count": 15,
   "outputs": [
    {
     "name": "stdout",
     "output_type": "stream",
     "text": [
      "0    1\n",
      "1    2\n",
      "2    3\n",
      "Name: A, dtype: int64\n",
      "A    1\n",
      "B    4\n",
      "Name: 0, dtype: int64\n"
     ]
    }
   ],
   "source": [
    "# Truy cập cột 'A'\n",
    "print(df['A'])\n",
    "\n",
    "# Truy cập hàng đầu tiên\n",
    "print(df.iloc[0])"
   ],
   "metadata": {
    "collapsed": false,
    "ExecuteTime": {
     "end_time": "2025-01-15T10:13:33.297318Z",
     "start_time": "2025-01-15T10:13:33.290318300Z"
    }
   }
  },
  {
   "cell_type": "code",
   "execution_count": null,
   "outputs": [],
   "source": [
    "# Đọc file CSV\n",
    "csv_df = pd.read_csv(\"data.csv\")\n",
    "print(csv_df.head())\n",
    "\n",
    "# Đọc file Excel\n",
    "excel_df = pd.read_excel(\"data.xlsx\", sheet_name=\"Sheet1\")\n",
    "print(excel_df.head())"
   ],
   "metadata": {
    "collapsed": false
   }
  }
 ],
 "metadata": {
  "kernelspec": {
   "display_name": "Python 3",
   "language": "python",
   "name": "python3"
  },
  "language_info": {
   "codemirror_mode": {
    "name": "ipython",
    "version": 2
   },
   "file_extension": ".py",
   "mimetype": "text/x-python",
   "name": "python",
   "nbconvert_exporter": "python",
   "pygments_lexer": "ipython2",
   "version": "2.7.6"
  }
 },
 "nbformat": 4,
 "nbformat_minor": 0
}
